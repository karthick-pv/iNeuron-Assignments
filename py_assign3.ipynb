{
 "cells": [
  {
   "cell_type": "markdown",
   "id": "4ed03dfa",
   "metadata": {},
   "source": [
    "Write a Python Program to implement your own myreduce() function which works exactly\n",
    "like Python's built-in function reduce()"
   ]
  },
  {
   "cell_type": "code",
   "execution_count": 4,
   "id": "f1379792",
   "metadata": {},
   "outputs": [
    {
     "name": "stdout",
     "output_type": "stream",
     "text": [
      "10\n"
     ]
    },
    {
     "data": {
      "text/plain": [
       "170"
      ]
     },
     "execution_count": 4,
     "metadata": {},
     "output_type": "execute_result"
    }
   ],
   "source": [
    "def myreduce(val,*argv):\n",
    "    sum=0\n",
    "    print(val)\n",
    "    for a in argv:\n",
    "        sum=sum+a\n",
    "    sum=sum*val\n",
    "    return sum\n",
    "       \n",
    "s = myreduce(10,2,4,5,6)\n",
    "s"
   ]
  },
  {
   "cell_type": "markdown",
   "id": "bf1558ab",
   "metadata": {},
   "source": [
    "# Implement List comprehensions to produce the following lists.\n",
    "Write List comprehensions to produce the following Lists\n",
    "\n",
    "['x', 'xx', 'xxx', 'xxxx', 'y', 'yy', 'yyy', 'yyyy', 'z', 'zz', 'zzz', 'zzzz']\n",
    "['x', 'y', 'z', 'xx', 'yy', 'zz', 'xxx', 'yyy', 'zzz', 'xxxx', 'yyyy', 'zzzz']\n",
    "[[2], [3], [4], [3], [4], [5], [4], [5], [6]] [[2, 3, 4, 5], [3, 4, 5, 6],\n",
    "[4, 5, 6, 7], [5, 6, 7, 8]]\n",
    "[(1, 1), (2, 1), (3, 1), (1, 2), (2, 2), (3, 2), (1, 3), (2, 3), (3, 3)]"
   ]
  },
  {
   "cell_type": "code",
   "execution_count": 62,
   "id": "c811fc6c",
   "metadata": {},
   "outputs": [
    {
     "name": "stdout",
     "output_type": "stream",
     "text": [
      "['x', 'xx', 'xxx', 'xxxx', 'y', 'yy', 'yyy', 'yyyy', 'z', 'zz', 'zzz', 'zzzz']\n",
      "['x', 'y', 'z', 'xx', 'yy', 'zz', 'xxx', 'yyy', 'zzz', 'xxxx', 'yyyy', 'zzzz']\n"
     ]
    }
   ],
   "source": [
    "mylist = ['x','y','z']\n",
    "mylist1 = [j * mylist[i] for i in range(len(mylist)) for j in range(1,5)]\n",
    "print(mylist1)\n",
    "\n",
    "mylist1 = [j * mylist[i] for j in range(1,5) for i in range(len(mylist))]\n",
    "print(mylist1)\n",
    "\n"
   ]
  },
  {
   "cell_type": "code",
   "execution_count": 63,
   "id": "d8328a60",
   "metadata": {},
   "outputs": [
    {
     "name": "stdout",
     "output_type": "stream",
     "text": [
      "[[2], [3], [4], [3], [4], [5], [4], [5], [6]]\n"
     ]
    }
   ],
   "source": [
    "mylist=[2,3,4,5,6]\n",
    "mlist=[mylist[i:i+1:1] for j in range(3) for i in range(j,j+3)]\n",
    "print(mlist)\n",
    "\n",
    "        \n"
   ]
  },
  {
   "cell_type": "code",
   "execution_count": 64,
   "id": "7dd9bc73",
   "metadata": {},
   "outputs": [
    {
     "data": {
      "text/plain": [
       "[[2, 3, 4, 5], [3, 4, 5, 6], [4, 5, 6, 7], [5, 6, 7, 8]]"
      ]
     },
     "execution_count": 64,
     "metadata": {},
     "output_type": "execute_result"
    }
   ],
   "source": [
    "mylist=[2,3,4,5,6,7,8]\n",
    "mlist=[mylist[i:4+i] for i in range(4)]\n",
    "mlist\n"
   ]
  },
  {
   "cell_type": "code",
   "execution_count": 65,
   "id": "093df614",
   "metadata": {},
   "outputs": [
    {
     "name": "stdout",
     "output_type": "stream",
     "text": [
      "[(1, 1), (2, 1), (3, 1), (1, 2), (2, 2), (3, 2), (1, 3), (2, 3), (3, 3)]\n"
     ]
    }
   ],
   "source": [
    "mylist=[1,2,3]\n",
    "mlist=[(i+1,mylist[j]) for j in range(len(mylist)) for i in range(3)]\n",
    "print(mlist)        "
   ]
  },
  {
   "cell_type": "markdown",
   "id": "48ebfb9c",
   "metadata": {},
   "source": [
    "Write a Python program to implement your own myfilter() function which works exactly\n",
    "like Python's built-in function filter()"
   ]
  },
  {
   "cell_type": "code",
   "execution_count": 5,
   "id": "9186f3f1",
   "metadata": {},
   "outputs": [
    {
     "name": "stdout",
     "output_type": "stream",
     "text": [
      "[2, 4, 6]\n"
     ]
    }
   ],
   "source": [
    "def is_even(num):\n",
    "  return num % 2 == 0\n",
    "\n",
    "list_of_nums = [1,2,3,4,5,6]\n",
    "\n",
    "\n",
    "list_of_even_nums = []\n",
    "\n",
    "\n",
    "for num in list_of_nums:\n",
    "  if is_even(num) == True:\n",
    "    list_of_even_nums.append(num)\n",
    "\n",
    "print(list_of_even_nums)"
   ]
  },
  {
   "cell_type": "code",
   "execution_count": null,
   "id": "3f9383a2",
   "metadata": {},
   "outputs": [],
   "source": []
  }
 ],
 "metadata": {
  "kernelspec": {
   "display_name": "Python 3 (ipykernel)",
   "language": "python",
   "name": "python3"
  },
  "language_info": {
   "codemirror_mode": {
    "name": "ipython",
    "version": 3
   },
   "file_extension": ".py",
   "mimetype": "text/x-python",
   "name": "python",
   "nbconvert_exporter": "python",
   "pygments_lexer": "ipython3",
   "version": "3.8.8"
  }
 },
 "nbformat": 4,
 "nbformat_minor": 5
}
